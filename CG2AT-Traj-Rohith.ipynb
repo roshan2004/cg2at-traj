{
 "cells": [
  {
   "cell_type": "code",
   "execution_count": 35,
   "metadata": {
    "collapsed": false
   },
   "outputs": [],
   "source": [
    "import mdtraj as md"
   ]
  },
  {
   "cell_type": "code",
   "execution_count": 27,
   "metadata": {
    "collapsed": true
   },
   "outputs": [],
   "source": [
    "t = md.load('ccr5_C_v3loop_full_mini.dcd', top='ccr5_C_v3loop_full.psf')"
   ]
  },
  {
   "cell_type": "code",
   "execution_count": 28,
   "metadata": {
    "collapsed": false
   },
   "outputs": [
    {
     "data": {
      "text/plain": [
       "10"
      ]
     },
     "execution_count": 28,
     "metadata": {},
     "output_type": "execute_result"
    }
   ],
   "source": [
    "t.n_frames"
   ]
  },
  {
   "cell_type": "code",
   "execution_count": 29,
   "metadata": {
    "collapsed": true
   },
   "outputs": [],
   "source": [
    "for frame_no in range(t.n_frames):\n",
    "    frame = t[frame_no]\n",
    "    frame.save_pdb('Rohith_frames/frame_%d.pdb'%(frame_no))"
   ]
  },
  {
   "cell_type": "markdown",
   "metadata": {},
   "source": [
    "## Now converting PDBs to trajectory"
   ]
  },
  {
   "cell_type": "code",
   "execution_count": 36,
   "metadata": {
    "collapsed": true
   },
   "outputs": [],
   "source": [
    "import MDAnalysis as mda\n",
    "import glob"
   ]
  },
  {
   "cell_type": "code",
   "execution_count": null,
   "metadata": {
    "collapsed": true
   },
   "outputs": [],
   "source": [
    "top = 'ccr5_C_v3loop_full.psf'\n",
    "pdb_traj = glob.glob('Rohith_frames/*.pdb')"
   ]
  },
  {
   "cell_type": "code",
   "execution_count": 31,
   "metadata": {
    "collapsed": false
   },
   "outputs": [
    {
     "data": {
      "text/plain": [
       "['Rohith_frames/frame_2.pdb',\n",
       " 'Rohith_frames/frame_1.pdb',\n",
       " 'Rohith_frames/frame_8.pdb',\n",
       " 'Rohith_frames/frame_5.pdb',\n",
       " 'Rohith_frames/frame_9.pdb',\n",
       " 'Rohith_frames/frame_4.pdb',\n",
       " 'Rohith_frames/frame_0.pdb',\n",
       " 'Rohith_frames/frame_6.pdb',\n",
       " 'Rohith_frames/frame_3.pdb',\n",
       " 'Rohith_frames/frame_7.pdb']"
      ]
     },
     "execution_count": 31,
     "metadata": {},
     "output_type": "execute_result"
    }
   ],
   "source": [
    "pdb_traj"
   ]
  },
  {
   "cell_type": "code",
   "execution_count": 33,
   "metadata": {
    "collapsed": false
   },
   "outputs": [],
   "source": [
    "u = mda.Universe(top, pdb_traj)"
   ]
  },
  {
   "cell_type": "code",
   "execution_count": 34,
   "metadata": {
    "collapsed": true
   },
   "outputs": [],
   "source": [
    "with mda.Writer(\"new.dcd\", n_atoms=u.atoms.n_atoms) as W:\n",
    "    for ts in u.trajectory:\n",
    "        W.write(ts)"
   ]
  }
 ],
 "metadata": {
  "kernelspec": {
   "display_name": "Python 2",
   "language": "python",
   "name": "python2"
  },
  "language_info": {
   "codemirror_mode": {
    "name": "ipython",
    "version": 2
   },
   "file_extension": ".py",
   "mimetype": "text/x-python",
   "name": "python",
   "nbconvert_exporter": "python",
   "pygments_lexer": "ipython2",
   "version": "2.7.10"
  }
 },
 "nbformat": 4,
 "nbformat_minor": 0
}
